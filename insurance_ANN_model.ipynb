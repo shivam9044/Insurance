{
 "cells": [
  {
   "cell_type": "code",
   "execution_count": 2692,
   "id": "b21b03d0",
   "metadata": {},
   "outputs": [],
   "source": [
    "import pandas as pd\n",
    "import numpy as np\n",
    "import matplotlib.pyplot as plt\n",
    "import seaborn as sns\n",
    "%matplotlib inline"
   ]
  },
  {
   "cell_type": "code",
   "execution_count": 2693,
   "id": "f48ea5ce",
   "metadata": {},
   "outputs": [],
   "source": [
    "df=pd.read_csv('expenses.csv')"
   ]
  },
  {
   "cell_type": "code",
   "execution_count": 2694,
   "id": "df5b3171",
   "metadata": {},
   "outputs": [
    {
     "data": {
      "text/html": [
       "<div>\n",
       "<style scoped>\n",
       "    .dataframe tbody tr th:only-of-type {\n",
       "        vertical-align: middle;\n",
       "    }\n",
       "\n",
       "    .dataframe tbody tr th {\n",
       "        vertical-align: top;\n",
       "    }\n",
       "\n",
       "    .dataframe thead th {\n",
       "        text-align: right;\n",
       "    }\n",
       "</style>\n",
       "<table border=\"1\" class=\"dataframe\">\n",
       "  <thead>\n",
       "    <tr style=\"text-align: right;\">\n",
       "      <th></th>\n",
       "      <th>age</th>\n",
       "      <th>sex</th>\n",
       "      <th>bmi</th>\n",
       "      <th>children</th>\n",
       "      <th>smoker</th>\n",
       "      <th>region</th>\n",
       "      <th>charges</th>\n",
       "    </tr>\n",
       "  </thead>\n",
       "  <tbody>\n",
       "    <tr>\n",
       "      <th>0</th>\n",
       "      <td>19</td>\n",
       "      <td>female</td>\n",
       "      <td>27.900</td>\n",
       "      <td>0</td>\n",
       "      <td>yes</td>\n",
       "      <td>southwest</td>\n",
       "      <td>16884.92400</td>\n",
       "    </tr>\n",
       "    <tr>\n",
       "      <th>1</th>\n",
       "      <td>18</td>\n",
       "      <td>male</td>\n",
       "      <td>33.770</td>\n",
       "      <td>1</td>\n",
       "      <td>no</td>\n",
       "      <td>southeast</td>\n",
       "      <td>1725.55230</td>\n",
       "    </tr>\n",
       "    <tr>\n",
       "      <th>2</th>\n",
       "      <td>28</td>\n",
       "      <td>male</td>\n",
       "      <td>33.000</td>\n",
       "      <td>3</td>\n",
       "      <td>no</td>\n",
       "      <td>southeast</td>\n",
       "      <td>4449.46200</td>\n",
       "    </tr>\n",
       "    <tr>\n",
       "      <th>3</th>\n",
       "      <td>33</td>\n",
       "      <td>male</td>\n",
       "      <td>22.705</td>\n",
       "      <td>0</td>\n",
       "      <td>no</td>\n",
       "      <td>northwest</td>\n",
       "      <td>21984.47061</td>\n",
       "    </tr>\n",
       "    <tr>\n",
       "      <th>4</th>\n",
       "      <td>32</td>\n",
       "      <td>male</td>\n",
       "      <td>28.880</td>\n",
       "      <td>0</td>\n",
       "      <td>no</td>\n",
       "      <td>northwest</td>\n",
       "      <td>3866.85520</td>\n",
       "    </tr>\n",
       "  </tbody>\n",
       "</table>\n",
       "</div>"
      ],
      "text/plain": [
       "   age     sex     bmi  children smoker     region      charges\n",
       "0   19  female  27.900         0    yes  southwest  16884.92400\n",
       "1   18    male  33.770         1     no  southeast   1725.55230\n",
       "2   28    male  33.000         3     no  southeast   4449.46200\n",
       "3   33    male  22.705         0     no  northwest  21984.47061\n",
       "4   32    male  28.880         0     no  northwest   3866.85520"
      ]
     },
     "execution_count": 2694,
     "metadata": {},
     "output_type": "execute_result"
    }
   ],
   "source": [
    "df.head()"
   ]
  },
  {
   "cell_type": "code",
   "execution_count": 2695,
   "id": "6c9cda4e",
   "metadata": {},
   "outputs": [
    {
     "data": {
      "text/plain": [
       "<bound method NDFrame.describe of       age     sex     bmi  children smoker     region      charges\n",
       "0      19  female  27.900         0    yes  southwest  16884.92400\n",
       "1      18    male  33.770         1     no  southeast   1725.55230\n",
       "2      28    male  33.000         3     no  southeast   4449.46200\n",
       "3      33    male  22.705         0     no  northwest  21984.47061\n",
       "4      32    male  28.880         0     no  northwest   3866.85520\n",
       "...   ...     ...     ...       ...    ...        ...          ...\n",
       "1333   50    male  30.970         3     no  northwest  10600.54830\n",
       "1334   18  female  31.920         0     no  northeast   2205.98080\n",
       "1335   18  female  36.850         0     no  southeast   1629.83350\n",
       "1336   21  female  25.800         0     no  southwest   2007.94500\n",
       "1337   61  female  29.070         0    yes  northwest  29141.36030\n",
       "\n",
       "[1338 rows x 7 columns]>"
      ]
     },
     "execution_count": 2695,
     "metadata": {},
     "output_type": "execute_result"
    }
   ],
   "source": [
    "df.describe"
   ]
  },
  {
   "cell_type": "code",
   "execution_count": 2696,
   "id": "dabd5e22",
   "metadata": {},
   "outputs": [
    {
     "data": {
      "text/plain": [
       "age         0\n",
       "sex         0\n",
       "bmi         0\n",
       "children    0\n",
       "smoker      0\n",
       "region      0\n",
       "charges     0\n",
       "dtype: int64"
      ]
     },
     "execution_count": 2696,
     "metadata": {},
     "output_type": "execute_result"
    }
   ],
   "source": [
    "df.isnull().sum()"
   ]
  },
  {
   "cell_type": "code",
   "execution_count": 2697,
   "id": "1a6feb85",
   "metadata": {},
   "outputs": [
    {
     "data": {
      "text/plain": [
       "<AxesSubplot:xlabel='sex', ylabel='count'>"
      ]
     },
     "execution_count": 2697,
     "metadata": {},
     "output_type": "execute_result"
    },
    {
     "data": {
      "image/png": "[encoded data removed]",
      "text/plain": [
       "<Figure size 432x288 with 1 Axes>"
      ]
     },
     "metadata": {
      "needs_background": "light"
     },
     "output_type": "display_data"
    }
   ],
   "source": [
    "sns.countplot(x='sex',data=df)"
   ]
  },
  {
   "cell_type": "code",
   "execution_count": 2698,
   "id": "ca4fa256",
   "metadata": {},
   "outputs": [
    {
     "data": {
      "text/plain": [
       "Text(0.5, 0, 'medical expenditure')"
      ]
     },
     "execution_count": 2698,
     "metadata": {},
     "output_type": "execute_result"
    },
    {
     "data": {
      "image/png": "[encoded data removed]",
      "text/plain": [
       "<Figure size 432x288 with 1 Axes>"
      ]
     },
     "metadata": {},
     "output_type": "display_data"
    }
   ],
   "source": [
    "sns.set_style('whitegrid')\n",
    "df['charges'].plot.hist()\n",
    "plt.xlabel('medical expenditure')"
   ]
  },
  {
   "cell_type": "code",
   "execution_count": 2699,
   "id": "a32961f9",
   "metadata": {},
   "outputs": [],
   "source": [
    "#removing the outlier"
   ]
  },
  {
   "cell_type": "code",
   "execution_count": 2700,
   "id": "9a9f4000",
   "metadata": {},
   "outputs": [
    {
     "data": {
      "text/html": [
       "<div>\n",
       "<style scoped>\n",
       "    .dataframe tbody tr th:only-of-type {\n",
       "        vertical-align: middle;\n",
       "    }\n",
       "\n",
       "    .dataframe tbody tr th {\n",
       "        vertical-align: top;\n",
       "    }\n",
       "\n",
       "    .dataframe thead th {\n",
       "        text-align: right;\n",
       "    }\n",
       "</style>\n",
       "<table border=\"1\" class=\"dataframe\">\n",
       "  <thead>\n",
       "    <tr style=\"text-align: right;\">\n",
       "      <th></th>\n",
       "      <th>age</th>\n",
       "      <th>sex</th>\n",
       "      <th>bmi</th>\n",
       "      <th>children</th>\n",
       "      <th>smoker</th>\n",
       "      <th>region</th>\n",
       "      <th>charges</th>\n",
       "    </tr>\n",
       "  </thead>\n",
       "  <tbody>\n",
       "    <tr>\n",
       "      <th>0</th>\n",
       "      <td>19</td>\n",
       "      <td>female</td>\n",
       "      <td>27.900</td>\n",
       "      <td>0</td>\n",
       "      <td>yes</td>\n",
       "      <td>southwest</td>\n",
       "      <td>16884.92400</td>\n",
       "    </tr>\n",
       "    <tr>\n",
       "      <th>1</th>\n",
       "      <td>18</td>\n",
       "      <td>male</td>\n",
       "      <td>33.770</td>\n",
       "      <td>1</td>\n",
       "      <td>no</td>\n",
       "      <td>southeast</td>\n",
       "      <td>1725.55230</td>\n",
       "    </tr>\n",
       "    <tr>\n",
       "      <th>2</th>\n",
       "      <td>28</td>\n",
       "      <td>male</td>\n",
       "      <td>33.000</td>\n",
       "      <td>3</td>\n",
       "      <td>no</td>\n",
       "      <td>southeast</td>\n",
       "      <td>4449.46200</td>\n",
       "    </tr>\n",
       "    <tr>\n",
       "      <th>3</th>\n",
       "      <td>33</td>\n",
       "      <td>male</td>\n",
       "      <td>22.705</td>\n",
       "      <td>0</td>\n",
       "      <td>no</td>\n",
       "      <td>northwest</td>\n",
       "      <td>21984.47061</td>\n",
       "    </tr>\n",
       "    <tr>\n",
       "      <th>4</th>\n",
       "      <td>32</td>\n",
       "      <td>male</td>\n",
       "      <td>28.880</td>\n",
       "      <td>0</td>\n",
       "      <td>no</td>\n",
       "      <td>northwest</td>\n",
       "      <td>3866.85520</td>\n",
       "    </tr>\n",
       "  </tbody>\n",
       "</table>\n",
       "</div>"
      ],
      "text/plain": [
       "   age     sex     bmi  children smoker     region      charges\n",
       "0   19  female  27.900         0    yes  southwest  16884.92400\n",
       "1   18    male  33.770         1     no  southeast   1725.55230\n",
       "2   28    male  33.000         3     no  southeast   4449.46200\n",
       "3   33    male  22.705         0     no  northwest  21984.47061\n",
       "4   32    male  28.880         0     no  northwest   3866.85520"
      ]
     },
     "execution_count": 2700,
     "metadata": {},
     "output_type": "execute_result"
    }
   ],
   "source": [
    "df1=df[(df['charges']<45000)]\n",
    "df1.head()"
   ]
  },
  {
   "cell_type": "code",
   "execution_count": 2701,
   "id": "32613eb8",
   "metadata": {},
   "outputs": [
    {
     "data": {
      "text/plain": [
       "<AxesSubplot:xlabel='charges', ylabel='Count'>"
      ]
     },
     "execution_count": 2701,
     "metadata": {},
     "output_type": "execute_result"
    },
    {
     "data": {
      "image/png": "[encoded data removed]",
      "text/plain": [
       "<Figure size 720x432 with 1 Axes>"
      ]
     },
     "metadata": {},
     "output_type": "display_data"
    }
   ],
   "source": [
    "plt.figure(figsize=(10,6))\n",
    "sns.set_style('whitegrid')\n",
    "sns.histplot(x='charges',data=df1,hue='sex',bins=10,multiple='dodge')"
   ]
  },
  {
   "cell_type": "code",
   "execution_count": 2702,
   "id": "2d7db5e2",
   "metadata": {},
   "outputs": [
    {
     "data": {
      "text/plain": [
       "<AxesSubplot:xlabel='region', ylabel='count'>"
      ]
     },
     "execution_count": 2702,
     "metadata": {},
     "output_type": "execute_result"
    },
    {
     "data": {
      "image/png": "[encoded data removed]",
      "text/plain": [
       "<Figure size 720x432 with 1 Axes>"
      ]
     },
     "metadata": {},
     "output_type": "display_data"
    }
   ],
   "source": [
    "plt.figure(figsize=(10,6))\n",
    "sns.set_style('whitegrid')\n",
    "sns.countplot(x='region',data=df1,hue='smoker')"
   ]
  },
  {
   "cell_type": "code",
   "execution_count": null,
   "id": "ecdf3b60",
   "metadata": {},
   "outputs": [],
   "source": [
    "#mean expenditure of smokers vs non smokers"
   ]
  },
  {
   "cell_type": "code",
   "execution_count": 2703,
   "id": "cf46c7d5",
   "metadata": {},
   "outputs": [
    {
     "data": {
      "text/plain": [
       "<AxesSubplot:xlabel='smoker'>"
      ]
     },
     "execution_count": 2703,
     "metadata": {},
     "output_type": "execute_result"
    },
    {
     "data": {
      "image/png": "[encoded data removed]",
      "text/plain": [
       "<Figure size 432x288 with 1 Axes>"
      ]
     },
     "metadata": {},
     "output_type": "display_data"
    }
   ],
   "source": [
    "x1=df.groupby('smoker')['charges'].mean()\n",
    "x1.plot.bar(color='r')"
   ]
  },
  {
   "cell_type": "code",
   "execution_count": 2704,
   "id": "cde24680",
   "metadata": {},
   "outputs": [],
   "source": [
    "#splitting of data"
   ]
  },
  {
   "cell_type": "code",
   "execution_count": 2705,
   "id": "78751a56",
   "metadata": {},
   "outputs": [
    {
     "data": {
      "text/html": [
       "<div>\n",
       "<style scoped>\n",
       "    .dataframe tbody tr th:only-of-type {\n",
       "        vertical-align: middle;\n",
       "    }\n",
       "\n",
       "    .dataframe tbody tr th {\n",
       "        vertical-align: top;\n",
       "    }\n",
       "\n",
       "    .dataframe thead th {\n",
       "        text-align: right;\n",
       "    }\n",
       "</style>\n",
       "<table border=\"1\" class=\"dataframe\">\n",
       "  <thead>\n",
       "    <tr style=\"text-align: right;\">\n",
       "      <th></th>\n",
       "      <th>age</th>\n",
       "      <th>bmi</th>\n",
       "      <th>children</th>\n",
       "      <th>charges</th>\n",
       "      <th>sex_male</th>\n",
       "      <th>smoker_yes</th>\n",
       "      <th>region_northwest</th>\n",
       "      <th>region_southeast</th>\n",
       "      <th>region_southwest</th>\n",
       "    </tr>\n",
       "  </thead>\n",
       "  <tbody>\n",
       "    <tr>\n",
       "      <th>0</th>\n",
       "      <td>19</td>\n",
       "      <td>27.900</td>\n",
       "      <td>0</td>\n",
       "      <td>16884.92400</td>\n",
       "      <td>0</td>\n",
       "      <td>1</td>\n",
       "      <td>0</td>\n",
       "      <td>0</td>\n",
       "      <td>1</td>\n",
       "    </tr>\n",
       "    <tr>\n",
       "      <th>1</th>\n",
       "      <td>18</td>\n",
       "      <td>33.770</td>\n",
       "      <td>1</td>\n",
       "      <td>1725.55230</td>\n",
       "      <td>1</td>\n",
       "      <td>0</td>\n",
       "      <td>0</td>\n",
       "      <td>1</td>\n",
       "      <td>0</td>\n",
       "    </tr>\n",
       "    <tr>\n",
       "      <th>2</th>\n",
       "      <td>28</td>\n",
       "      <td>33.000</td>\n",
       "      <td>3</td>\n",
       "      <td>4449.46200</td>\n",
       "      <td>1</td>\n",
       "      <td>0</td>\n",
       "      <td>0</td>\n",
       "      <td>1</td>\n",
       "      <td>0</td>\n",
       "    </tr>\n",
       "    <tr>\n",
       "      <th>3</th>\n",
       "      <td>33</td>\n",
       "      <td>22.705</td>\n",
       "      <td>0</td>\n",
       "      <td>21984.47061</td>\n",
       "      <td>1</td>\n",
       "      <td>0</td>\n",
       "      <td>1</td>\n",
       "      <td>0</td>\n",
       "      <td>0</td>\n",
       "    </tr>\n",
       "    <tr>\n",
       "      <th>4</th>\n",
       "      <td>32</td>\n",
       "      <td>28.880</td>\n",
       "      <td>0</td>\n",
       "      <td>3866.85520</td>\n",
       "      <td>1</td>\n",
       "      <td>0</td>\n",
       "      <td>1</td>\n",
       "      <td>0</td>\n",
       "      <td>0</td>\n",
       "    </tr>\n",
       "  </tbody>\n",
       "</table>\n",
       "</div>"
      ],
      "text/plain": [
       "   age     bmi  children      charges  sex_male  smoker_yes  region_northwest  \\\n",
       "0   19  27.900         0  16884.92400         0           1                 0   \n",
       "1   18  33.770         1   1725.55230         1           0                 0   \n",
       "2   28  33.000         3   4449.46200         1           0                 0   \n",
       "3   33  22.705         0  21984.47061         1           0                 1   \n",
       "4   32  28.880         0   3866.85520         1           0                 1   \n",
       "\n",
       "   region_southeast  region_southwest  \n",
       "0                 0                 1  \n",
       "1                 1                 0  \n",
       "2                 1                 0  \n",
       "3                 0                 0  \n",
       "4                 0                 0  "
      ]
     },
     "execution_count": 2705,
     "metadata": {},
     "output_type": "execute_result"
    }
   ],
   "source": [
    "sex1=pd.get_dummies(df1['sex'],drop_first=True,prefix='sex')\n",
    "smoker1=pd.get_dummies(df1['smoker'],drop_first=True,prefix='smoker')\n",
    "region1=pd.get_dummies(df1['region'],drop_first=True,prefix='region')\n",
    "df=pd.concat([df1,sex1,smoker1,region1],axis=1)\n",
    "df.drop(['sex','smoker','region'],axis=1,inplace=True)\n",
    "X=df.drop('charges',axis=1).values\n",
    "y=df['charges'].values\n",
    "df.head()"
   ]
  },
  {
   "cell_type": "code",
   "execution_count": 2706,
   "id": "289ccff4",
   "metadata": {},
   "outputs": [],
   "source": [
    "#splitting of data"
   ]
  },
  {
   "cell_type": "code",
   "execution_count": 2707,
   "id": "0caea8e3",
   "metadata": {},
   "outputs": [],
   "source": [
    "from sklearn.model_selection import train_test_split\n",
    "X_train, X_test, y_train, y_test = train_test_split(X, y, test_size=0.25, random_state=42)"
   ]
  },
  {
   "cell_type": "code",
   "execution_count": 2708,
   "id": "671b5310",
   "metadata": {},
   "outputs": [
    {
     "data": {
      "text/plain": [
       "(325, 8)"
      ]
     },
     "execution_count": 2708,
     "metadata": {},
     "output_type": "execute_result"
    }
   ],
   "source": [
    "from sklearn.preprocessing import MinMaxScaler\n",
    "scaler=MinMaxScaler()\n",
    "X_train=scaler.fit_transform(X_train)\n",
    "X_test=scaler.transform(X_test)\n",
    "X_test.shape"
   ]
  },
  {
   "cell_type": "code",
   "execution_count": 2709,
   "id": "25661591",
   "metadata": {},
   "outputs": [],
   "source": [
    "#use of ANN to predict the Insurance premium"
   ]
  },
  {
   "cell_type": "code",
   "execution_count": 2710,
   "id": "d90dcbe8",
   "metadata": {},
   "outputs": [],
   "source": [
    "from tensorflow.keras.models import Sequential\n",
    "from tensorflow.keras.layers import Dense,Dropout\n",
    "from tensorflow.keras.callbacks import EarlyStopping"
   ]
  },
  {
   "cell_type": "code",
   "execution_count": 2711,
   "id": "c73d2f68",
   "metadata": {},
   "outputs": [],
   "source": [
    "early_stop=EarlyStopping(monitor='val_loss',mode='min',verbose=1)"
   ]
  },
  {
   "cell_type": "code",
   "execution_count": 2712,
   "id": "4cea30e9",
   "metadata": {},
   "outputs": [],
   "source": [
    "model=Sequential()"
   ]
  },
  {
   "cell_type": "code",
   "execution_count": 2713,
   "id": "d847928c",
   "metadata": {},
   "outputs": [],
   "source": [
    "model.add(Dense(8, activation='tanh'))\n",
    "model.add(Dropout(0.2))\n",
    "model.add(Dense(30, activation='relu'))\n",
    "model.add(Dropout(0.2))\n",
    "model.add(Dense(30, activation='relu'))\n",
    "model.add(Dropout(0.2))\n",
    "model.add(Dense(30, activation='relu'))\n",
    "model.add(Dropout(0.2))\n",
    "model.add(Dense(1))\n",
    "model.compile(optimizer='adam',loss='mae')"
   ]
  },
  {
   "cell_type": "code",
   "execution_count": 2714,
   "id": "df110307",
   "metadata": {},
   "outputs": [
    {
     "name": "stdout",
     "output_type": "stream",
     "text": [
      "Epoch 1/500\n",
      "16/16 [==============================] - 0s 9ms/step - loss: 12254.1553 - val_loss: 12116.9873\n",
      "Epoch 2/500\n",
      "16/16 [==============================] - 0s 2ms/step - loss: 12253.6943 - val_loss: 12116.4531\n",
      "Epoch 3/500\n",
      "16/16 [==============================] - 0s 2ms/step - loss: 12252.8711 - val_loss: 12115.1035\n",
      "Epoch 4/500\n",
      "16/16 [==============================] - 0s 2ms/step - loss: 12250.7676 - val_loss: 12111.8086\n",
      "Epoch 5/500\n",
      "16/16 [==============================] - 0s 2ms/step - loss: 12245.6396 - val_loss: 12103.6592\n",
      "Epoch 6/500\n",
      "16/16 [==============================] - 0s 2ms/step - loss: 12233.2002 - val_loss: 12084.4834\n",
      "Epoch 7/500\n",
      "16/16 [==============================] - 0s 2ms/step - loss: 12205.3691 - val_loss: 12043.1943\n",
      "Epoch 8/500\n",
      "16/16 [==============================] - 0s 2ms/step - loss: 12148.1758 - val_loss: 11961.1631\n",
      "Epoch 9/500\n",
      "16/16 [==============================] - 0s 2ms/step - loss: 12035.8340 - val_loss: 11810.2051\n",
      "Epoch 10/500\n",
      "16/16 [==============================] - 0s 2ms/step - loss: 11844.6318 - val_loss: 11555.7988\n",
      "Epoch 11/500\n",
      "16/16 [==============================] - 0s 2ms/step - loss: 11522.9062 - val_loss: 11151.2568\n",
      "Epoch 12/500\n",
      "16/16 [==============================] - 0s 2ms/step - loss: 11057.2090 - val_loss: 10576.0527\n",
      "Epoch 13/500\n",
      "16/16 [==============================] - 0s 2ms/step - loss: 10419.2578 - val_loss: 9856.8857\n",
      "Epoch 14/500\n",
      "16/16 [==============================] - 0s 2ms/step - loss: 9636.0439 - val_loss: 9027.1299\n",
      "Epoch 15/500\n",
      "16/16 [==============================] - 0s 2ms/step - loss: 8939.8115 - val_loss: 8221.5205\n",
      "Epoch 16/500\n",
      "16/16 [==============================] - 0s 2ms/step - loss: 8371.1074 - val_loss: 7638.2847\n",
      "Epoch 17/500\n",
      "16/16 [==============================] - 0s 2ms/step - loss: 7897.4346 - val_loss: 7287.3262\n",
      "Epoch 18/500\n",
      "16/16 [==============================] - 0s 2ms/step - loss: 7607.2837 - val_loss: 7090.2344\n",
      "Epoch 19/500\n",
      "16/16 [==============================] - 0s 2ms/step - loss: 7410.5752 - val_loss: 6974.9409\n",
      "Epoch 20/500\n",
      "16/16 [==============================] - 0s 2ms/step - loss: 7407.3809 - val_loss: 6911.9932\n",
      "Epoch 21/500\n",
      "16/16 [==============================] - 0s 2ms/step - loss: 7371.7285 - val_loss: 6866.4844\n",
      "Epoch 22/500\n",
      "16/16 [==============================] - 0s 2ms/step - loss: 7382.3555 - val_loss: 6816.2583\n",
      "Epoch 23/500\n",
      "16/16 [==============================] - 0s 2ms/step - loss: 7425.8330 - val_loss: 6740.2056\n",
      "Epoch 24/500\n",
      "16/16 [==============================] - 0s 2ms/step - loss: 7109.6743 - val_loss: 6659.3306\n",
      "Epoch 25/500\n",
      "16/16 [==============================] - 0s 2ms/step - loss: 7076.8379 - val_loss: 6555.6353\n",
      "Epoch 26/500\n",
      "16/16 [==============================] - 0s 2ms/step - loss: 7041.6021 - val_loss: 6441.0493\n",
      "Epoch 27/500\n",
      "16/16 [==============================] - 0s 2ms/step - loss: 6953.3818 - val_loss: 6320.3794\n",
      "Epoch 28/500\n",
      "16/16 [==============================] - 0s 2ms/step - loss: 6757.5386 - val_loss: 6150.5317\n",
      "Epoch 29/500\n",
      "16/16 [==============================] - 0s 2ms/step - loss: 6655.0332 - val_loss: 5931.0938\n",
      "Epoch 30/500\n",
      "16/16 [==============================] - 0s 2ms/step - loss: 6406.6655 - val_loss: 5700.0488\n",
      "Epoch 31/500\n",
      "16/16 [==============================] - 0s 2ms/step - loss: 6186.1299 - val_loss: 5381.4624\n",
      "Epoch 32/500\n",
      "16/16 [==============================] - 0s 2ms/step - loss: 5843.0161 - val_loss: 5024.9858\n",
      "Epoch 33/500\n",
      "16/16 [==============================] - 0s 2ms/step - loss: 5508.0352 - val_loss: 4622.5825\n",
      "Epoch 34/500\n",
      "16/16 [==============================] - 0s 2ms/step - loss: 5194.1567 - val_loss: 4158.1626\n",
      "Epoch 35/500\n",
      "16/16 [==============================] - 0s 2ms/step - loss: 4989.0518 - val_loss: 3702.6255\n",
      "Epoch 36/500\n",
      "16/16 [==============================] - 0s 2ms/step - loss: 4732.4790 - val_loss: 3425.3210\n",
      "Epoch 37/500\n",
      "16/16 [==============================] - 0s 2ms/step - loss: 4583.3169 - val_loss: 3278.7588\n",
      "Epoch 38/500\n",
      "16/16 [==============================] - 0s 2ms/step - loss: 4562.8936 - val_loss: 3194.3672\n",
      "Epoch 39/500\n",
      "16/16 [==============================] - 0s 2ms/step - loss: 4518.5044 - val_loss: 3136.0481\n",
      "Epoch 40/500\n",
      "16/16 [==============================] - 0s 2ms/step - loss: 4311.9043 - val_loss: 3091.9731\n",
      "Epoch 41/500\n",
      "16/16 [==============================] - 0s 2ms/step - loss: 4394.8672 - val_loss: 3070.5132\n",
      "Epoch 42/500\n",
      "16/16 [==============================] - 0s 2ms/step - loss: 4290.5249 - val_loss: 3028.3762\n",
      "Epoch 43/500\n",
      "16/16 [==============================] - 0s 2ms/step - loss: 4239.4346 - val_loss: 3010.1948\n",
      "Epoch 44/500\n",
      "16/16 [==============================] - 0s 2ms/step - loss: 4194.8628 - val_loss: 3003.9810\n",
      "Epoch 45/500\n",
      "16/16 [==============================] - 0s 2ms/step - loss: 4276.0137 - val_loss: 2997.7322\n",
      "Epoch 46/500\n",
      "16/16 [==============================] - 0s 2ms/step - loss: 4194.5698 - val_loss: 2978.3665\n",
      "Epoch 47/500\n",
      "16/16 [==============================] - 0s 2ms/step - loss: 4138.5947 - val_loss: 2955.8660\n",
      "Epoch 48/500\n",
      "16/16 [==============================] - 0s 2ms/step - loss: 4122.7944 - val_loss: 2945.5315\n",
      "Epoch 49/500\n",
      "16/16 [==============================] - 0s 2ms/step - loss: 4190.3242 - val_loss: 2973.5623\n",
      "Epoch 00049: early stopping\n"
     ]
    },
    {
     "data": {
      "text/plain": [
       "<tensorflow.python.keras.callbacks.History at 0x23d9c37fcd0>"
      ]
     },
     "execution_count": 2714,
     "metadata": {},
     "output_type": "execute_result"
    }
   ],
   "source": [
    "model.fit(x=X_train,y=y_train,epochs=500,verbose=1,callbacks=[early_stop],batch_size=64,validation_data=(X_test,y_test))"
   ]
  },
  {
   "cell_type": "code",
   "execution_count": 2715,
   "id": "35316930",
   "metadata": {},
   "outputs": [
    {
     "data": {
      "text/plain": [
       "<AxesSubplot:>"
      ]
     },
     "execution_count": 2715,
     "metadata": {},
     "output_type": "execute_result"
    },
    {
     "data": {
      "image/png": "[encoded data removed]",
      "text/plain": [
       "<Figure size 432x288 with 1 Axes>"
      ]
     },
     "metadata": {},
     "output_type": "display_data"
    }
   ],
   "source": [
    "df2=pd.DataFrame(model.history.history)\n",
    "df2.plot()"
   ]
  },
  {
   "cell_type": "code",
   "execution_count": 2716,
   "id": "63a349f2",
   "metadata": {},
   "outputs": [
    {
     "name": "stdout",
     "output_type": "stream",
     "text": [
      "11/11 [==============================] - 0s 727us/step - loss: 2973.5623\n"
     ]
    },
    {
     "data": {
      "text/plain": [
       "2973.562255859375"
      ]
     },
     "execution_count": 2716,
     "metadata": {},
     "output_type": "execute_result"
    }
   ],
   "source": [
    "model.evaluate(X_test,y_test)"
   ]
  },
  {
   "cell_type": "code",
   "execution_count": 2717,
   "id": "e4123c20",
   "metadata": {},
   "outputs": [
    {
     "data": {
      "text/plain": [
       "(325, 1)"
      ]
     },
     "execution_count": 2717,
     "metadata": {},
     "output_type": "execute_result"
    }
   ],
   "source": [
    "model_predictions= model.predict(X_test)\n",
    "model_predictions.shape"
   ]
  },
  {
   "cell_type": "code",
   "execution_count": 2718,
   "id": "ca77f808",
   "metadata": {},
   "outputs": [],
   "source": [
    "model_predictions=pd.Series(model_predictions.reshape(325,),name='predicted values')"
   ]
  },
  {
   "cell_type": "code",
   "execution_count": 2719,
   "id": "691f5cf2",
   "metadata": {},
   "outputs": [],
   "source": [
    "predict_df=pd.DataFrame(y_test,columns=['true test value'])"
   ]
  },
  {
   "cell_type": "code",
   "execution_count": 2720,
   "id": "340029c7",
   "metadata": {},
   "outputs": [
    {
     "data": {
      "text/html": [
       "<div>\n",
       "<style scoped>\n",
       "    .dataframe tbody tr th:only-of-type {\n",
       "        vertical-align: middle;\n",
       "    }\n",
       "\n",
       "    .dataframe tbody tr th {\n",
       "        vertical-align: top;\n",
       "    }\n",
       "\n",
       "    .dataframe thead th {\n",
       "        text-align: right;\n",
       "    }\n",
       "</style>\n",
       "<table border=\"1\" class=\"dataframe\">\n",
       "  <thead>\n",
       "    <tr style=\"text-align: right;\">\n",
       "      <th></th>\n",
       "      <th>true test value</th>\n",
       "      <th>predicted values</th>\n",
       "    </tr>\n",
       "  </thead>\n",
       "  <tbody>\n",
       "    <tr>\n",
       "      <th>0</th>\n",
       "      <td>12574.04900</td>\n",
       "      <td>11435.563477</td>\n",
       "    </tr>\n",
       "    <tr>\n",
       "      <th>1</th>\n",
       "      <td>8827.20990</td>\n",
       "      <td>8739.681641</td>\n",
       "    </tr>\n",
       "    <tr>\n",
       "      <th>2</th>\n",
       "      <td>35491.64000</td>\n",
       "      <td>25016.785156</td>\n",
       "    </tr>\n",
       "    <tr>\n",
       "      <th>3</th>\n",
       "      <td>9863.47180</td>\n",
       "      <td>9562.052734</td>\n",
       "    </tr>\n",
       "    <tr>\n",
       "      <th>4</th>\n",
       "      <td>2974.12600</td>\n",
       "      <td>2487.714355</td>\n",
       "    </tr>\n",
       "    <tr>\n",
       "      <th>...</th>\n",
       "      <td>...</td>\n",
       "      <td>...</td>\n",
       "    </tr>\n",
       "    <tr>\n",
       "      <th>320</th>\n",
       "      <td>36898.73308</td>\n",
       "      <td>24124.560547</td>\n",
       "    </tr>\n",
       "    <tr>\n",
       "      <th>321</th>\n",
       "      <td>13887.20400</td>\n",
       "      <td>12468.826172</td>\n",
       "    </tr>\n",
       "    <tr>\n",
       "      <th>322</th>\n",
       "      <td>36189.10170</td>\n",
       "      <td>24917.441406</td>\n",
       "    </tr>\n",
       "    <tr>\n",
       "      <th>323</th>\n",
       "      <td>26236.57997</td>\n",
       "      <td>8591.255859</td>\n",
       "    </tr>\n",
       "    <tr>\n",
       "      <th>324</th>\n",
       "      <td>6746.74250</td>\n",
       "      <td>7175.979980</td>\n",
       "    </tr>\n",
       "  </tbody>\n",
       "</table>\n",
       "<p>325 rows × 2 columns</p>\n",
       "</div>"
      ],
      "text/plain": [
       "     true test value  predicted values\n",
       "0        12574.04900      11435.563477\n",
       "1         8827.20990       8739.681641\n",
       "2        35491.64000      25016.785156\n",
       "3         9863.47180       9562.052734\n",
       "4         2974.12600       2487.714355\n",
       "..               ...               ...\n",
       "320      36898.73308      24124.560547\n",
       "321      13887.20400      12468.826172\n",
       "322      36189.10170      24917.441406\n",
       "323      26236.57997       8591.255859\n",
       "324       6746.74250       7175.979980\n",
       "\n",
       "[325 rows x 2 columns]"
      ]
     },
     "execution_count": 2720,
     "metadata": {},
     "output_type": "execute_result"
    }
   ],
   "source": [
    "predict_df=pd.concat([predict_df,model_predictions],axis=1)\n",
    "predict_df"
   ]
  }
 ],
 "metadata": {
  "kernelspec": {
   "display_name": "Python 3",
   "language": "python",
   "name": "python3"
  },
  "language_info": {
   "codemirror_mode": {
    "name": "ipython",
    "version": 3
   },
   "file_extension": ".py",
   "mimetype": "text/x-python",
   "name": "python",
   "nbconvert_exporter": "python",
   "pygments_lexer": "ipython3",
   "version": "3.8.8"
  }
 },
 "nbformat": 4,
 "nbformat_minor": 5
}
